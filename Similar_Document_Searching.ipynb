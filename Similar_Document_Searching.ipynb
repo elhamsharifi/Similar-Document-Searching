{
 "cells": [
  {
   "cell_type": "markdown",
   "metadata": {},
   "source": [
    "# Machine Learning_CMSC643\n",
    "## Project 1: Similar document searching via MinHash and Locality Sensitive Hashing"
   ]
  },
  {
   "cell_type": "markdown",
   "metadata": {},
   "source": [
    "### In this first project we will implement the system described in the lecture notes for similar document searching. This project is inspired by http://mccormickml.com/2015/06/12/minhash-tutorial-with-python-code/.\n",
    "\n",
    "### We will use documents from this repository http://www.inf.ed.ac.uk/teaching/courses/tts/assessed/assessment3.html. This is a dataset of documents for which we want to find possible plagiarism. It consists of 10,000 documents for which some pairs are tagged as instances of plagiarism. The goal of this exercise is to see how effectively and efficiently a minhash and LSH system can identify these instances.\n",
    "### Note that smaller subsets of data suitable for testing are available here: https://github.com/chrisjmccormick/MinHash/tree/master/data"
   ]
  },
  {
   "cell_type": "markdown",
   "metadata": {},
   "source": [
    "## Obtaining data\n",
    "### We use the following python code to download data for the project.     \n",
    "### Using the function fetch_data will download data to a subdirectory pointed to by the variable PLAGIARISM_PATH. We can assign the path we want to use for our data to that variable. The maxsize argument of the fetch_data function is used to limit the size of data downloaded. For testing and development we should use the 1000 document dataset. We can get that with function call fetch_data(maxsize=1000)."
   ]
  },
  {
   "cell_type": "code",
   "execution_count": 7,
   "metadata": {
    "collapsed": true
   },
   "outputs": [],
   "source": [
    "import os\n",
    "from six.moves import urllib\n",
    "\n",
    "DOWNLOAD_ROOT = \"https://raw.githubusercontent.com/chrisjmccormick/MinHash/master/data\"\n",
    "PLAGIARISM_PATH = \"datasets/plagiarism\"\n",
    "DATA_SIZES = [100,1000,2500,10000]\n",
    "\n",
    "def fetch_data(download_root=DOWNLOAD_ROOT, \n",
    "               plagiarism_path=PLAGIARISM_PATH, \n",
    "               data_sizes=DATA_SIZES,\n",
    "               maxsize=1000):\n",
    "  if not os.path.isdir(plagiarism_path):\n",
    "      os.makedirs(plagiarism_path)\n",
    "  for size in data_sizes:\n",
    "      if size <= maxsize:\n",
    "          train_file = \"articles_\" + str(size) + \".train\" \n",
    "          train_path = plagiarism_path + '/' + train_file\n",
    "          if not os.path.exists(train_path):\n",
    "              train_url = download_root + '/' + train_file\n",
    "              urllib.request.urlretrieve(train_url, train_path)\n",
    "          \n",
    "          truth_file = \"articles_\" + str(size) + \".truth\"\n",
    "          truth_path = plagiarism_path + '/' + truth_file\n",
    "          if not os.path.exists(truth_path):\n",
    "              truth_url = download_root + \"/\" + truth_file\n",
    "              urllib.request.urlretrieve(truth_url, truth_path)\n",
    "                \n",
    "                \n",
    "fetch_data (maxsize=10000)                "
   ]
  },
  {
   "cell_type": "markdown",
   "metadata": {},
   "source": [
    "# Part I: Preliminaries"
   ]
  },
  {
   "cell_type": "markdown",
   "metadata": {},
   "source": [
    "## Part IA: Dataset parsing\n",
    "### Write a function parse_data that given the path to a filename, reads in the article data and returns an array of tuples. With One tuple per article (there is one article per line)\n",
    "### For each article tuples will contain (id, string) where id is the article id and string is the article text as described.\n",
    "### Then Process the article text to \n",
    "###     - remove all punctuation\n",
    "###     - change all letters to lowercase\n",
    "###     - remove all whitespace so that all words are concatenated\n",
    "\n",
    "### The output return an array of tuples. Each one of the tuples show an article.\n",
    "### At the end, I have parsed '/articles_100.train' to show how the code is working."
   ]
  },
  {
   "cell_type": "code",
   "execution_count": 8,
   "metadata": {
    "collapsed": true
   },
   "outputs": [],
   "source": [
    "def parse_data(filename):\n",
    "    import string\n",
    "\n",
    "    array_of_doc_tuples=[]\n",
    "    # read lines from filename\n",
    "    #with open((filename)) as fp:\n",
    "     #   for line in fp:\n",
    "        \n",
    "    f=open(filename,'r') \n",
    "    lines=f.readlines()\n",
    "    \n",
    "    for line in lines:\n",
    "    # construct tuple of id and text\n",
    "            id = line.split(' ')[0]\n",
    "            text = str(line.split(' ')[1:])\n",
    "            \n",
    "    # process string as described above\n",
    "            for ch in string.punctuation:                                                                                                     \n",
    "                text=text.replace(ch, \"\")\n",
    "                \n",
    "            text=text.lower()\n",
    "            \n",
    "            text=text.replace(\" \", \"\")\n",
    "            \n",
    "            tuples=(id,text)\n",
    "            array_of_doc_tuples.append(tuples)\n",
    "    # return tuple with id and processed string\n",
    "            \n",
    "        \n",
    "    return array_of_doc_tuples\n",
    "\n",
    "\n"
   ]
  },
  {
   "cell_type": "markdown",
   "metadata": {},
   "source": [
    "## Part IB: Document shingles\n",
    "### Write a function shingle_document that given a processed article string and a parameter k shards the document as follows:\n",
    "### each substring of length k in document is hashed to a 32-bit integer (see crc32 fucntion in https://docs.python.org/3/library/binascii.html)\n",
    "### returns a list of the unique 32-bit integers obtained in previous step \n"
   ]
  },
  {
   "cell_type": "code",
   "execution_count": 1,
   "metadata": {
    "collapsed": true
   },
   "outputs": [],
   "source": [
    "def shingle_document(string, k):\n",
    "    import binascii\n",
    "    # initialize set data structure\n",
    "    set_data_structure=set()\n",
    "    # for each position in string, extract substring of length k\n",
    "    for i in range (len(string)-k+1):\n",
    "        substring_length_k=string[i:i+k]\n",
    "        \n",
    "    # hash into 32-bit integer\n",
    "        hash_substring=binascii.crc32( substring_length_k.encode())\n",
    "    # insert into set\n",
    "        set_data_structure.add(hash_substring)\n",
    "    return (set_data_structure)     "
   ]
  },
  {
   "cell_type": "markdown",
   "metadata": {},
   "source": [
    "## Part IC: Jaccard Similarity\n",
    "### This jaccard function given two sharded documents, computes their Jaccard distance\n",
    "### In this function we used nice property of sets. We can easily compute the union and intersection of two sets by following codes."
   ]
  },
  {
   "cell_type": "code",
   "execution_count": 2,
   "metadata": {
    "collapsed": true
   },
   "outputs": [],
   "source": [
    "def jaccard(a, b):\n",
    "  # compute union size\n",
    "    union_size = len(set(a).union(set(b)))\n",
    "  # compute intersection size\n",
    "    intersection_size=len(set(a).intersection(set(b)))\n",
    "  \n",
    "  # return ratio of union and intersection\n",
    "    return 1.0*intersection_size/union_size"
   ]
  },
  {
   "cell_type": "markdown",
   "metadata": {},
   "source": [
    "## Part ID: Put all part I together\n",
    "### Write a function that uses the above to do the following:\n",
    "### Parse a file with data\n",
    "### Return a list of tuples each tuple contains: (id1, id2, s), where id1 and id2 are document ids and s is the computed Jaccard similarity\n",
    "### In the output I am printing the documents that show jaccard similarity more than 0.8."
   ]
  },
  {
   "cell_type": "code",
   "execution_count": 3,
   "metadata": {
    "collapsed": true
   },
   "outputs": [],
   "source": [
    "def jaccard_of_documents(file_name, k):\n",
    "    \n",
    "    array_of_documents_tuples=parse_data (file_name)\n",
    "    \n",
    "    array_of_jaccard_tuples=[]\n",
    "    \n",
    "        \n",
    "    for i in range(len(array_of_documents_tuples)):\n",
    "        for j in range (i+1, len(array_of_documents_tuples)):\n",
    "            a=shingle_document(array_of_documents_tuples[i][1], k)\n",
    "            b=shingle_document(array_of_documents_tuples[j][1], k)\n",
    "            jaccard_similarity = jaccard(a,b)\n",
    "            jaccard_tuples = (array_of_documents_tuples[i][0],array_of_documents_tuples[j][0],jaccard_similarity)\n",
    "            if jaccard_similarity>=0.8:\n",
    "                print (jaccard_tuples)\n",
    "            array_of_jaccard_tuples+=[jaccard_tuples]\n",
    "            \n",
    "    return array_of_jaccard_tuples"
   ]
  },
  {
   "cell_type": "markdown",
   "metadata": {},
   "source": [
    "# Here in the output I am showing the documents that have more than 0.8 jaccard similarity at first and the the jaccard similarity for all others. The data input is /articles_100.train and k=10.\n",
    "## The results match with truth file."
   ]
  },
  {
   "cell_type": "code",
   "execution_count": 69,
   "metadata": {},
   "outputs": [
    {
     "name": "stdout",
     "output_type": "stream",
     "text": [
      "('t980', 't2023', 0.9855595667870036)\n",
      "('t1088', 't5015', 0.9900826446280991)\n",
      "('t1297', 't4638', 0.9867439933719967)\n",
      "('t1768', 't5248', 0.9900744416873449)\n",
      "('t1952', 't3495', 0.9837983798379838)\n"
     ]
    }
   ],
   "source": [
    "array_of_jaccard_tuples=jaccard_of_documents(\"datasets/plagiarism/articles_100.train\",10)\n"
   ]
  },
  {
   "cell_type": "markdown",
   "metadata": {},
   "source": [
    "# Here in the output I am showing the documents that have more than 0.8 jaccard similarity for /articles_1000.train input and shingle length(k)=10. \n",
    "## The results match with truth file."
   ]
  },
  {
   "cell_type": "code",
   "execution_count": 8,
   "metadata": {},
   "outputs": [
    {
     "name": "stdout",
     "output_type": "stream",
     "text": [
      "('t980', 't2023', 0.9855595667870036)\n",
      "('t1088', 't5015', 0.9900826446280991)\n",
      "('t1297', 't4638', 0.9867439933719967)\n",
      "('t1768', 't5248', 0.9900744416873449)\n",
      "('t1952', 't3495', 0.9837983798379838)\n",
      "('t2535', 't8642', 0.9897233201581027)\n",
      "('t2839', 't9303', 0.990606936416185)\n",
      "('t2957', 't7111', 0.9906904577191621)\n",
      "('t3268', 't7998', 0.9824236817761333)\n",
      "('t3466', 't7563', 0.9868131868131869)\n"
     ]
    }
   ],
   "source": [
    "array_of_jaccard_tuples=jaccard_of_documents(\"datasets/plagiarism/articles_1000.train\",10)\n"
   ]
  },
  {
   "cell_type": "markdown",
   "metadata": {},
   "source": [
    "## Part IE: Experiment 0\n",
    "### In this part we want to do an experiment to see what the effect of sharding length k is on the Jaccard similarity of plagiarism instances versus instances that are not plagiarized. We use the 1000 document dataset for this experiment. \n",
    "### The inputs are the train data set and truth data set.\n",
    "### The outputs are set of plagiarized and non-plagiarized instances.\n",
    "### First we read the truth file to see what documents are plagiarized. Also to generate a set of non plagiarized documents, we look at the truth data set and we choose all of them one by one. Then randomly pick another document and check that this document shouldn't be part of the truth file. If it is we continue to pick another one until we find one that is not part of the truth file. So this way we generate a set of non_plagiarized documents and they are twice as many as plagiarized documents. "
   ]
  },
  {
   "cell_type": "code",
   "execution_count": 4,
   "metadata": {
    "collapsed": true
   },
   "outputs": [],
   "source": [
    "import random\n",
    "import numpy as np\n",
    "\n",
    "def plagiarized_non_plagiarized_instances(file_name1,file_name2):\n",
    "    import random\n",
    "    f=open(file_name2,'r') \n",
    "    plagiarized_instances=[]\n",
    "    non_plagiarized_instances=[]\n",
    "    lines=f.readlines()\n",
    "    \n",
    "    for line in lines:\n",
    "        # construct tuple of id and text\n",
    "        first_doc = line.split(' ')[0]\n",
    "        second_doc = line.split(' ')[1].strip()\n",
    "        truth_tuples=(first_doc,second_doc)    \n",
    "            \n",
    "        plagiarized_instances.append(truth_tuples)\n",
    "        \n",
    "    array_of_documents_tuples=parse_data (file_name1)\n",
    "    num_doc=len(array_of_documents_tuples)\n",
    "\n",
    "    list_truth=[]\n",
    "    for i,j in plagiarized_instances:\n",
    "        list_truth.append(i)\n",
    "        list_truth.append(j)   \n",
    "        \n",
    "    for i in list_truth:\n",
    "    \n",
    "        j=array_of_documents_tuples[random.randint(0,num_doc)][0] \n",
    "    \n",
    "        while j in list_truth:\n",
    "            j=array_of_documents_tuples[random.randint(0,num_doc)][0]\n",
    "        instance=(i,j)  \n",
    "        non_plagiarized_instances.append(instance)\n",
    "        \n",
    "        \n",
    "        \n",
    "    return plagiarized_instances, non_plagiarized_instances"
   ]
  },
  {
   "cell_type": "markdown",
   "metadata": {},
   "source": [
    "## Part IE: Experiment 0_Continue\n",
    "### Here we calculate the jaccard similarity between the plagiarized and non-plagiarized documents. \n",
    "### The inputs are the train data set and truth data set and length of shingle.\n",
    "### The output is average jaccard similarity for plagiarized sets and non-plagiarized sets."
   ]
  },
  {
   "cell_type": "code",
   "execution_count": 5,
   "metadata": {
    "collapsed": true
   },
   "outputs": [],
   "source": [
    "def jaccard_similarity_plagiarized_non_plagiarized(file_name1,file_name2,k):\n",
    "    \n",
    "    array_of_documents_tuples=parse_data (file_name1)\n",
    "    docids=[]\n",
    "    for i in range(len(array_of_documents_tuples)):\n",
    "        docids.append(array_of_documents_tuples[i][0])\n",
    "    plagiarized_instances,non_plagiarized_instances=plagiarized_non_plagiarized_instances(file_name1,file_name2)\n",
    "    \n",
    "    similarity_plagiarized=[]\n",
    "    for i,j in plagiarized_instances:\n",
    "        index_id1=docids.index(i)\n",
    "        index_id2=docids.index(j)\n",
    "        a=shingle_document(array_of_documents_tuples[index_id1][1], k)\n",
    "        b=shingle_document(array_of_documents_tuples[index_id2][1], k)\n",
    "        similarity_plagiarized.append(jaccard(a,b))\n",
    "       \n",
    "    ave_similarity_plagiarized=np.average(similarity_plagiarized)\n",
    "    \n",
    "    similarity_non_plagiarized=[]\n",
    "    for i,j in non_plagiarized_instances:\n",
    "        index_id1=docids.index(i)\n",
    "        index_id2=docids.index(j)\n",
    "        a=shingle_document(array_of_documents_tuples[index_id1][1], k)\n",
    "        b=shingle_document(array_of_documents_tuples[index_id2][1], k)\n",
    "        similarity_non_plagiarized.append(jaccard(a,b))\n",
    "       \n",
    "    ave_similarity_non_plagiarized=np.average(similarity_non_plagiarized)\n",
    "    \n",
    "    return ave_similarity_plagiarized, ave_similarity_non_plagiarized    \n",
    "    \n",
    "    "
   ]
  },
  {
   "cell_type": "markdown",
   "metadata": {},
   "source": [
    "## Part IE: Experiment 0_Continue\n",
    "### Here we plot the average jaccard similarity for plagiarized sets and non-plagiarized sets for different k.  k varies between 1 and 101 by step 4. \n",
    "### From the graph we can see if we use k=10 false positives will be very low and after that it somehow stays the same. If we choose threshold at 0.9 or even 0.8 then we will have very little chance of false negative. So I will use k=10 in the remaining parts."
   ]
  },
  {
   "cell_type": "code",
   "execution_count": 9,
   "metadata": {},
   "outputs": [
    {
     "data": {
      "text/plain": [
       "<matplotlib.text.Text at 0x24faf36bb70>"
      ]
     },
     "execution_count": 9,
     "metadata": {},
     "output_type": "execute_result"
    },
    {
     "data": {
      "image/png": "[encoded data removed]",
      "text/plain": [
       "<matplotlib.figure.Figure at 0x24faf0ebba8>"
      ]
     },
     "metadata": {},
     "output_type": "display_data"
    }
   ],
   "source": [
    "import matplotlib.pyplot as plt\n",
    "%matplotlib inline\n",
    "file_name1=\"datasets/plagiarism/articles_1000.train\"\n",
    "file_name2=\"datasets/plagiarism/articles_1000.truth\"\n",
    "set_ave_similarity_plagiarized=[]\n",
    "set_ave_similarity_non_plagiarized=[]\n",
    "set_k=[]\n",
    "for k in range (1, 101,4):\n",
    "\n",
    "    ave_similarity_plagiarized, ave_similarity_non_plagiarized=jaccard_similarity_plagiarized_non_plagiarized(file_name1,file_name2,k)\n",
    "    set_ave_similarity_plagiarized.append(ave_similarity_plagiarized)\n",
    "    set_ave_similarity_non_plagiarized.append(ave_similarity_non_plagiarized)\n",
    "    set_k.append(k)\n",
    "    \n",
    "plt.plot(set_k,set_ave_similarity_plagiarized)    \n",
    "plt.plot(set_k,set_ave_similarity_non_plagiarized)  \n",
    "plt.legend(['Plagiarism Instances', 'Non-plagiarism Instances'],loc=5)\n",
    "plt.xlabel('Shingling Length K')\n",
    "plt.ylabel('Jaccard Similarity')\n",
    "plt.title('Jaccard Similarity vs. Shingling Length K for Plagiarized and Non-plagiarized Documents')\n",
    "                                                                                                 \n"
   ]
  },
  {
   "cell_type": "markdown",
   "metadata": {},
   "source": [
    "# Part II: MinHash\n",
    "## In this section we will implement the MinHash algorithm and perform an experiment to see how well it estimates Jaccard similarity.\n",
    "## Part IIA: Prepare shingles for processing\n",
    "### Implement a function that takes the shingled documents and returns a list of item-document pairs sorted by items that we’ll use to compute the minhash signature of each document. Remember that because of the shingling logic we used above, we represent items as 32-bit integers. The function specs are as follows:\n",
    "### Input is a list of tuples of form (docid, [items]), so far we don't have this kind of input. I will generate it in the following section.\n",
    "### Output will be a tuple with two elements:\n",
    "###      - a list of tuples of form (item, docid). It will contain one entry for each item appearing in each document.\n",
    "###      - a list of document ids found in the dataset\n",
    "### Output should be sorted by item"
   ]
  },
  {
   "cell_type": "code",
   "execution_count": 10,
   "metadata": {
    "collapsed": true
   },
   "outputs": [],
   "source": [
    "def invert_shingles(shingled_documents):\n",
    "  # initialize list for tuples\n",
    "    list_of_tuples = []\n",
    "  # initialize list for document ids\n",
    "    list_of_documentid = []\n",
    "  # for each document in input\n",
    "    for shingled_document in shingled_documents:\n",
    "    # append document id to list\n",
    "        list_of_documentid.append(shingled_document[0])\n",
    "    # for each item in document\n",
    "        for item in shingled_document[1]:\n",
    "      # append (item, docid) tuple\n",
    "            list_of_tuples.append((item,shingled_document[0]))\n",
    "  \n",
    "  # sort tuple list\n",
    "    list_of_tuples.sort()\n",
    "  # return sorted tuple list, and document list\n",
    "    return list_of_tuples, list_of_documentid"
   ]
  },
  {
   "cell_type": "markdown",
   "metadata": {},
   "source": [
    "### Here I am preparing the shingled_documents input for the above function. This function get the file name and shingle length as input and will put all the shingled documents together. The output of this function will make the input for above function."
   ]
  },
  {
   "cell_type": "code",
   "execution_count": 21,
   "metadata": {
    "collapsed": true
   },
   "outputs": [],
   "source": [
    "def shingles_of_documents (file_name,k):\n",
    "    array_of_documents_tuples= parse_data(file_name)\n",
    "    \n",
    "    tuple_shingled_documents=[]\n",
    "    for i in range(len(array_of_documents_tuples)):\n",
    "        a=shingle_document(array_of_documents_tuples[i][1], k)\n",
    "        shingled_documents=(array_of_documents_tuples[i][0],a)    \n",
    "        \n",
    "        tuple_shingled_documents+=[shingled_documents]   \n",
    "    \n",
    "    return tuple_shingled_documents"
   ]
  },
  {
   "cell_type": "markdown",
   "metadata": {},
   "source": [
    "## Part IIB: Generate hash functions\n"
   ]
  },
  {
   "cell_type": "markdown",
   "metadata": {},
   "source": [
    "### Generating random hash functions\n",
    "### This function generates a random hash function suitable to mimic permutations over 32-bit integers. Recall since we are using crc32 to represent items we need random hash functions that generate 32-bit numbers.\n",
    "### Some notes: this implements a universal hash function for 32-bit integers, which will ensure the result corresponds to a permutation of rows of the characteristic matrix as required by Minhash (see https://en.wikipedia.org/wiki/Universal_hashing). Here m is the largest number returned by crc32, and p is a prime number larger than m."
   ]
  },
  {
   "cell_type": "code",
   "execution_count": 12,
   "metadata": {
    "collapsed": true
   },
   "outputs": [],
   "source": [
    "import random\n",
    "\n",
    "def make_random_hash_fn(p=2**33-355, m=4294967295):\n",
    "    a = random.randint(1,p-1)\n",
    "    b = random.randint(0, p-1)\n",
    "    return lambda x: ((a * x + b) % p) % m"
   ]
  },
  {
   "cell_type": "markdown",
   "metadata": {},
   "source": [
    "### This is an example of how to use this function:"
   ]
  },
  {
   "cell_type": "code",
   "execution_count": 13,
   "metadata": {},
   "outputs": [
    {
     "name": "stdout",
     "output_type": "stream",
     "text": [
      "2094387795\n"
     ]
    }
   ],
   "source": [
    "hash_fn = make_random_hash_fn()\n",
    "print(hash_fn(8))"
   ]
  },
  {
   "cell_type": "markdown",
   "metadata": {},
   "source": [
    "### Here we use the make_random_hash_fn function to create function make_hashes. Given input num_hashes this function will return a list of hash functions that mimic the random permutation approach used in Minhash calculation. The function specs are:\n",
    "### Input is an integer num_hash\n",
    "### Output is a list of hash functions created by function make_random_hash_fn"
   ]
  },
  {
   "cell_type": "code",
   "execution_count": 14,
   "metadata": {
    "collapsed": true
   },
   "outputs": [],
   "source": [
    "def make_hashes(num_hashes):\n",
    "    list_of_hash_fn=[]\n",
    "    for i in range(num_hashes):\n",
    "        list_of_hash_fn.append(make_random_hash_fn())\n",
    "        \n",
    "    return list_of_hash_fn   \n",
    "\n",
    "        \n"
   ]
  },
  {
   "cell_type": "markdown",
   "metadata": {},
   "source": [
    "## Part IIC: Construct the Minhash Signature Matrix\n",
    "### Here in this part we write make_minhash_signature function which build the Minhash signature matrix. The inputs are shingled data and number of hashes. For the output we get the minhash signature and also the documents id's.\n",
    "### In this function first we set all the numbers in minhash signature matrix to infinity and we update the matrix as explained in our text book."
   ]
  },
  {
   "cell_type": "code",
   "execution_count": 15,
   "metadata": {
    "collapsed": true
   },
   "outputs": [],
   "source": [
    "import numpy as np\n",
    "\n",
    "def make_minhash_signature(shingled_data, num_hash):\n",
    "    inv_index, docids = invert_shingles(shingled_data)\n",
    "    num_docs = len(docids)\n",
    "  \n",
    "  # initialize the signature matrix with infinity in every entry\n",
    "    sigmatrix = np.full([num_hash, num_docs], np.inf)\n",
    "    \n",
    "  # generate hash functions\n",
    "    hash_funcs = make_hashes(num_hash)\n",
    "  \n",
    "  # iterate over each non-zero entry of the characteristic matrix\n",
    "    \n",
    "    for row, docid in inv_index:\n",
    "    # update signature matrix if needed \n",
    "    # THIS IS WHAT YOU NEED TO IMPLEMENT\n",
    "        \n",
    "    \n",
    "        for row1 in range(num_hash):\n",
    "            sigmatrix[row1,docids.index(docid)]=min(sigmatrix[row1,docids.index(docid)],hash_funcs[row1](row))\n",
    "      \n",
    "            \n",
    "        \n",
    "        \n",
    "    return sigmatrix, docids\n"
   ]
  },
  {
   "cell_type": "markdown",
   "metadata": {},
   "source": [
    "## Part IID: MinHash similarity estimate\n",
    "### This function computes the similarity of two documents using the minhash matrix computed above. The function specs are:\n",
    "### Inputs:\n",
    "###    - id1, id2: document ids\n",
    "###    - minhash_sigmat: minhash signature matrix\n",
    "###    -docids: list of document ids, used to index the columns of the minhash signature matrix\n",
    "### Output: Jaccard similarity estimated using minhash"
   ]
  },
  {
   "cell_type": "code",
   "execution_count": 16,
   "metadata": {
    "collapsed": true
   },
   "outputs": [],
   "source": [
    "def minhash_similarity(id1, id2, minhash_sigmat, docids):\n",
    "  # get column of the similarity matrix for the two documents\n",
    "    index_id1=docids.index(id1)\n",
    "    index_id2=docids.index(id2)\n",
    "    \n",
    "  # calculate the fraction of rows where two columns match\n",
    "    minhash_similarity_estimate= np.mean(minhash_sigmat[:, index_id1]==minhash_sigmat[:, index_id2])\n",
    "    \n",
    "  # return this fraction as the minhash similarity estimate\n",
    "    return minhash_similarity_estimate \n",
    "    "
   ]
  },
  {
   "cell_type": "markdown",
   "metadata": {},
   "source": [
    "## Part IIE: Put these together\n",
    "### This function computes the Minhash estimated similarities between each pair of documents. The inputs are  shingled documents and number of hashes. The output is list of similar documents. The threshhold I used here is 0.8."
   ]
  },
  {
   "cell_type": "code",
   "execution_count": 17,
   "metadata": {
    "collapsed": true
   },
   "outputs": [],
   "source": [
    "def minhash_similar_of_documents(shingles,num_hash):\n",
    "    \n",
    "    \n",
    "    \n",
    "    array_of_minhash_similar_tuples=[]\n",
    "    \n",
    "    list_of_tuples, list_of_documentid=invert_shingles(shingles)    \n",
    "    minhash_sigmat,list_of_documentid=make_minhash_signature(shingles, num_hash)\n",
    "    \n",
    "    for i in range(len(shingles)):\n",
    "        for j in range (i+1, len(shingles)):\n",
    "                        \n",
    "            minhash_similar=minhash_similarity(shingles[i][0], shingles[j][0], minhash_sigmat, list_of_documentid)\n",
    "            \n",
    "            \n",
    "            \n",
    "            minhash_tuples = (shingles[i][0], shingles[j][0],minhash_similar)\n",
    "            \n",
    "            if minhash_similar>=0.8:\n",
    "                \n",
    "                array_of_minhash_similar_tuples+=[minhash_tuples]\n",
    "                \n",
    "            \n",
    "    return array_of_minhash_similar_tuples"
   ]
  },
  {
   "cell_type": "markdown",
   "metadata": {},
   "source": [
    "## Part IIF: Experiment 1\n",
    "### In this experiment we want to see what  the effect of the number of hash functions used to compute the Minhash signature is on the accuracy of the Minhash estimate of Jaccard similarity. \n",
    "### In this function accuracy is defined as the square of the difference between minhash_similarity and jaccard similarity. The output is an array of this defined accuracy. The array is better than a single number like an average because we can estimate several statistics like average, interquartiles and etc of the array of accuracy."
   ]
  },
  {
   "cell_type": "code",
   "execution_count": 18,
   "metadata": {
    "collapsed": true
   },
   "outputs": [],
   "source": [
    "def accuracy_of_minhashsig_to_jaccard (file_name1,num_hash,k):\n",
    "    \n",
    "    array_of_documents_tuples=parse_data (file_name1)\n",
    "    docids=[]\n",
    "    for i in range(len(array_of_documents_tuples)):\n",
    "        docids.append(array_of_documents_tuples[i][0])\n",
    "        \n",
    "    shingles= shingles_of_documents(file_name1,k)\n",
    "    array_of_minhash_jaccard_accuracy=[]\n",
    "    \n",
    "    list_of_tuples, list_of_documentid=invert_shingles(shingles)    \n",
    "    minhash_sigmat,list_of_documentid=make_minhash_signature(shingles, num_hash)\n",
    "    \n",
    "    for i in range(len(shingles)):\n",
    "        for j in range (i+1, len(shingles)):\n",
    "                        \n",
    "            minhash_similar=minhash_similarity(shingles[i][0], shingles[j][0], minhash_sigmat, list_of_documentid)\n",
    "            \n",
    "            \n",
    "            index_id1=docids.index(shingles[i][0])\n",
    "            index_id2=docids.index(shingles[j][0])\n",
    "            a=shingle_document(array_of_documents_tuples[index_id1][1], k)\n",
    "            b=shingle_document(array_of_documents_tuples[index_id2][1], k)\n",
    "            jaccard_similar = jaccard(a,b)\n",
    "            \n",
    "            minhash_jaccard_accuracy = (minhash_similar - jaccard_similar)**2\n",
    "            \n",
    "                \n",
    "            array_of_minhash_jaccard_accuracy.append(minhash_jaccard_accuracy)\n",
    "                \n",
    "            \n",
    "    return array_of_minhash_jaccard_accuracy"
   ]
  },
  {
   "cell_type": "markdown",
   "metadata": {},
   "source": [
    "## Part IIF: Experiment 1 Continue\n",
    "### Here we want to see when the number of hashes grows how the accuracy grows. So I am calculating the accuracy array for 10, 100 and 1000 number of hashes and then I am ploting these three data sets to compare and see how the accuracy changes by increasing the number of hashes. At the plot we can see that when the number of hashes grows the accuracy improves. For 10 hashes the difference can be as high as 0.25 and 0.1 but the data gets more accurate when the number of hashes increases."
   ]
  },
  {
   "cell_type": "code",
   "execution_count": 22,
   "metadata": {},
   "outputs": [],
   "source": [
    "file_name1=\"datasets/plagiarism/articles_1000.train\"\n",
    "k=10\n",
    "num_hash=10 \n",
    "X_10 = accuracy_of_minhashsig_to_jaccard (file_name1,num_hash,k)\n",
    "num_hash=100\n",
    "X_100 = accuracy_of_minhashsig_to_jaccard (file_name1,num_hash,k)\n",
    "num_hash=1000\n",
    "X_1000 = accuracy_of_minhashsig_to_jaccard (file_name1,num_hash,k)\n"
   ]
  },
  {
   "cell_type": "code",
   "execution_count": 66,
   "metadata": {},
   "outputs": [
    {
     "data": {
      "text/plain": [
       "([<matplotlib.axis.XTick at 0x24fbb0d0f60>,\n",
       "  <matplotlib.axis.XTick at 0x24fc1d4def0>,\n",
       "  <matplotlib.axis.XTick at 0x24fc073a3c8>],\n",
       " <a list of 3 Text xticklabel objects>)"
      ]
     },
     "execution_count": 66,
     "metadata": {},
     "output_type": "execute_result"
    },
    {
     "data": {
      "image/png": "[encoded data removed]",
      "text/plain": [
       "<matplotlib.figure.Figure at 0x24fbcd18828>"
      ]
     },
     "metadata": {},
     "output_type": "display_data"
    }
   ],
   "source": [
    "import matplotlib.pyplot as plt\n",
    "%matplotlib inline\n",
    "\n",
    "plt.boxplot([X_10,X_100,X_1000]) \n",
    "plt.xlabel('Number of Hashes')\n",
    "plt.ylabel('Minhash & Jacc similarity Difference')\n",
    "plt.title('Difference of Minhashing Similarity and Jaccard similarity vs. Number of Hashes')\n",
    "plt.xticks([1,2,3], ['10','100','1000'])"
   ]
  },
  {
   "cell_type": "markdown",
   "metadata": {},
   "source": [
    "# Part III: Locality-Sensitive Hashing\n",
    "### This function chooses the number of bands for LSH based on given a similarity threshold."
   ]
  },
  {
   "cell_type": "code",
   "execution_count": 37,
   "metadata": {
    "collapsed": true
   },
   "outputs": [],
   "source": [
    "import scipy.optimize as opt\n",
    "import math\n",
    "\n",
    "def _choose_nbands(threshold, nhashes):\n",
    "    error_fun = lambda x: (threshold-((1/x[0])**(x[0]/nhashes)))**2\n",
    "    res = opt.minimize(error_fun, x0=(10), method='Nelder-Mead')\n",
    "    b = int(math.ceil(res['x'][0]))\n",
    "    r = int(nhashes / b)\n",
    "    final_t = (1/b)**(1/r)\n",
    "    return b, final_t"
   ]
  },
  {
   "cell_type": "markdown",
   "metadata": {},
   "source": [
    "## Hashing a vector\n",
    "### In LSH for each band we hash the r hash values for each document. We can use this function to generate a hash function for vectors."
   ]
  },
  {
   "cell_type": "code",
   "execution_count": 38,
   "metadata": {
    "collapsed": true
   },
   "outputs": [],
   "source": [
    "def _make_vector_hash(num_hashes, m=4294967295):\n",
    "    hash_fns = make_hashes(num_hashes)\n",
    "    def _f(vec):\n",
    "      acc = 0\n",
    "      for i in range(len(vec)):\n",
    "        h = hash_fns[i]\n",
    "        acc += h(vec[i])\n",
    "        return acc % m\n",
    "    return _f"
   ]
  },
  {
   "cell_type": "markdown",
   "metadata": {},
   "source": [
    "## Implement LSH\n",
    "### This function implements locality sensitive hashing. Inputs: a minhash signature matrix, number of hash functions used to construct minhash signature matrix, list of document ids and a minimum Jaccard similarity threshold. Output: a list of hash tables. The hash function of the r rows for each document make a key in the dictionary. If the other documents in that band make the same hash function so that document also belong to that key and then the two documents are put in the same bucket."
   ]
  },
  {
   "cell_type": "code",
   "execution_count": 39,
   "metadata": {
    "collapsed": true
   },
   "outputs": [],
   "source": [
    "from collections import defaultdict\n",
    "\n",
    "def do_lsh(minhash_sigmatrix, numhashes, docids, threshold):\n",
    "  b, _ = _choose_nbands(threshold, numhashes)\n",
    "  r = int(numhashes / b)\n",
    "  narticles = len(docids)\n",
    "  hash_func = _make_vector_hash(r)\n",
    "  \n",
    "  buckets = []\n",
    "  for band in range(b):\n",
    "    start_index = int(band * r)\n",
    "    end_index = min(start_index + r, numhashes)\n",
    "    \n",
    "    cur_buckets = defaultdict(list)\n",
    "    \n",
    "    for j in range(narticles):\n",
    "      # THIS IS WHAT YOU NEED TO IMPLEMENT\n",
    "        \n",
    "        key_val=hash_func(minhash_sigmatrix[start_index:end_index,j])\n",
    "        single_bucket_dict={key_val:(docids[j],)}\n",
    "        for key in single_bucket_dict:\n",
    "            if key in cur_buckets:\n",
    "                cur_buckets[key]+=(single_bucket_dict[key])\n",
    "            else:\n",
    "                cur_buckets[key]=single_bucket_dict[key]\n",
    "        \n",
    "        \n",
    "        \n",
    "        \n",
    "    buckets.append(cur_buckets)\n",
    "  \n",
    "  return buckets"
   ]
  },
  {
   "cell_type": "markdown",
   "metadata": {},
   "source": [
    "## Find candidate similar article pairs\n",
    "### This function uses the result of our LSH function and returns list of candidate article pairs. It looks at the buckets we generated with do_lsh function and if there is more than one document in each bucket it makes a combination of those documents as similar documents.\n",
    "### Input: the result of do_lsh and Output: list of tuples (docid1, docid2) each a candidate similar article pair according to LSH."
   ]
  },
  {
   "cell_type": "code",
   "execution_count": 40,
   "metadata": {
    "collapsed": true
   },
   "outputs": [],
   "source": [
    "def find_candidate_silimar_documents(buckets):\n",
    "    candidate_pairs=[]\n",
    "    for val in range(len(buckets)):\n",
    "        for key in buckets[val]:\n",
    "            if len(buckets[val][key])>1:\n",
    "                for i in range(len(buckets[val][key])-1):\n",
    "                    candidate=(buckets[val][key][i],buckets[val][key][i+1])\n",
    "                    candidate_pairs.append(candidate)\n",
    "        \n",
    "    return candidate_pairs    \n",
    "        "
   ]
  },
  {
   "cell_type": "markdown",
   "metadata": {},
   "source": [
    "### This function finds the plagiarized articles. It uses the candidate lists and look at the minhash_similarity of the candidates in the minhash signature matrix and if it's higher than the threshhold it will choose as plagiarized articles. I checked it on 100 size documents and the plagiarized articles are the same as the truth file.\n",
    "### Inputs: file_name, shingle length(k), number of hashes and threshold\n",
    "### Output: similar documents"
   ]
  },
  {
   "cell_type": "code",
   "execution_count": 41,
   "metadata": {},
   "outputs": [],
   "source": [
    "def find_silimar_documents(file_name,k,num_hashes,threshold):\n",
    "    shingles= shingles_of_documents(file_name,k)\n",
    "    minhash_sigmat,list_of_documentid=make_minhash_signature(shingles, num_hashes)\n",
    "    buckets= do_lsh(minhash_sigmat, num_hashes, list_of_documentid, threshold)\n",
    "    candidate_list=find_candidate_silimar_documents(buckets)\n",
    "    similar_docs=[]\n",
    "    for i,j in candidate_list:\n",
    "        if (i,j) not in similar_docs:\n",
    "            if minhash_similarity(i, j, minhash_sigmat, list_of_documentid)>0.8:\n",
    "                similar=(i,j)\n",
    "                similar_docs.append(similar)\n",
    "    return similar_docs      "
   ]
  },
  {
   "cell_type": "code",
   "execution_count": 43,
   "metadata": {},
   "outputs": [
    {
     "data": {
      "text/plain": [
       "[('t980', 't2023'),\n",
       " ('t1088', 't5015'),\n",
       " ('t1297', 't4638'),\n",
       " ('t1768', 't5248'),\n",
       " ('t1952', 't3495')]"
      ]
     },
     "execution_count": 43,
     "metadata": {},
     "output_type": "execute_result"
    }
   ],
   "source": [
    "file_name=\"datasets/plagiarism/articles_100.train\"\n",
    "k=10\n",
    "num_hashes=30\n",
    "threshold=0.8\n",
    "similar_docs= find_silimar_documents(file_name,k,num_hashes,threshold)\n",
    "similar_docs"
   ]
  },
  {
   "cell_type": "markdown",
   "metadata": {},
   "source": [
    "## Experiment 2: LSH sensitivity\n",
    "### This function computes the sensitivity and specificity of LSH as a function of the threshold. We use the candidate pairs and plagiarized set from the truth file and calculate the false positive, false negative, true positive. Sensitivity is ratio of true positive to the whole positive and specificity is the ratio of false positive to the whole negative. The threshold is ranging from 0.2 to 1 in 0.2 steps. \n",
    "### Inputs: Train set file_name, truth set file_name, shingle length(k), and number of hashes.\n",
    "### Outputs: sensitivity and specificity of the LSH"
   ]
  },
  {
   "cell_type": "code",
   "execution_count": 54,
   "metadata": {},
   "outputs": [],
   "source": [
    "def LSH_specificity_sensitivity(file_name1,file_name2,k,num_hashes):\n",
    "\n",
    "    plagiarized_instances,_=plagiarized_non_plagiarized_instances(file_name1,file_name2)\n",
    "\n",
    "    shingles= shingles_of_documents(file_name1,k)\n",
    "    minhash_sigmat,list_of_documentid=make_minhash_signature(shingles, num_hashes)\n",
    "    sensitivity=[]\n",
    "    specificity=[]\n",
    "    false_positive1=[]\n",
    "\n",
    "    for threshold in np.arange(0.2,1,0.2):\n",
    "        buckets= do_lsh(minhash_sigmat, num_hashes, list_of_documentid, threshold)\n",
    "        candidate_list=find_candidate_silimar_documents(buckets)\n",
    "        cur_true_positive=len(set(candidate_list).intersection(set(plagiarized_instances)))\n",
    "        cur_false_positive=len(candidate_list) - cur_true_positive\n",
    "        cur_false_negative=len(plagiarized_instances)-cur_true_positive\n",
    "        whole_negative = (len(list_of_documentid))**2 - len(candidate_list)\n",
    "        whole_positive=len(candidate_list)\n",
    "        cur_sensitivity= (1.0*cur_true_positive)/whole_positive\n",
    "        cur_specificity=(1.0*cur_false_positive)/whole_negative\n",
    "        sensitivity.append(cur_sensitivity)\n",
    "        specificity.append(cur_specificity)\n",
    "                                \n",
    "    return sensitivity, specificity"
   ]
  },
  {
   "cell_type": "code",
   "execution_count": 55,
   "metadata": {},
   "outputs": [],
   "source": [
    "file_name1=\"datasets/plagiarism/articles_1000.train\"\n",
    "file_name2=\"datasets/plagiarism/articles_1000.truth\"\n",
    "k=10\n",
    "num_hashes=100\n",
    "sensitivity, specificity= LSH_specificity_sensitivity(file_name1,file_name2,k,num_hashes)"
   ]
  },
  {
   "cell_type": "markdown",
   "metadata": {},
   "source": [
    "### Here I plot the sensitivity and specificity of LSH as a function of threshhold. We can see that by increasing the threshold the sensitivity is increasing and specificity is decreasing. It does make sense because when threshold increases we are goig to have fewer candidates and so the ration of true positive to whole positives increases. "
   ]
  },
  {
   "cell_type": "code",
   "execution_count": 67,
   "metadata": {},
   "outputs": [
    {
     "data": {
      "text/plain": [
       "(0, 1)"
      ]
     },
     "execution_count": 67,
     "metadata": {},
     "output_type": "execute_result"
    },
    {
     "data": {
      "image/png": "[encoded data removed]",
      "text/plain": [
       "<matplotlib.figure.Figure at 0x24fc07176d8>"
      ]
     },
     "metadata": {},
     "output_type": "display_data"
    }
   ],
   "source": [
    "plt.plot(np.arange(0.2,1,0.2),sensitivity)    \n",
    "plt.plot(np.arange(0.2,1,0.2),specificity)  \n",
    "plt.legend(['LSH Sensitivity', 'LSH Specificity'],loc=1)\n",
    "plt.xlabel('Threshhold t')\n",
    "plt.ylabel('Percentage of Sensitivity and Specificity')\n",
    "plt.title('LSH Sensitivity and Specificity vs. Threshhold')\n",
    "plt.xlim(0,1)"
   ]
  }
 ],
 "metadata": {
  "kernelspec": {
   "display_name": "Python 3",
   "language": "python",
   "name": "python3"
  },
  "language_info": {
   "codemirror_mode": {
    "name": "ipython",
    "version": 3
   },
   "file_extension": ".py",
   "mimetype": "text/x-python",
   "name": "python",
   "nbconvert_exporter": "python",
   "pygments_lexer": "ipython3",
   "version": "3.6.2"
  }
 },
 "nbformat": 4,
 "nbformat_minor": 2
}
